{
 "cells": [
  {
   "cell_type": "code",
   "execution_count": 1,
   "id": "831c73c5",
   "metadata": {},
   "outputs": [
    {
     "name": "stdout",
     "output_type": "stream",
     "text": [
      "Twinkle, twinkle, little star,\n",
      "\tHow I wonder what you are!\n",
      "\t\tUp above the world so high,\n",
      "\t\tLike a diamond in the sky.\n",
      "Twinkle, twinkle, little star,\n",
      "\tHow I wonder what you are.\n"
     ]
    }
   ],
   "source": [
    "# QUESTION NO :1\n",
    "# 1. Write a Python program to print the following string in a specific format (see the\n",
    "# output).\n",
    "\n",
    "# Twinkle, twinkle, little star,\n",
    "#          How I wonder what you are!\n",
    "#                 Up above the world so high,\n",
    "#                 Like a diamond in the sky.\n",
    "# Twinkle, twinkle, little star,\n",
    "#          How I wonder what you are\n",
    "\n",
    "\n",
    "# ANSWER NO :1\n",
    "\n",
    "\n",
    "print('Twinkle, twinkle, little star,')\n",
    "print(\"\\tHow I wonder what you are!\")\n",
    "print(\"\\t\\tUp above the world so high,\")\n",
    "print(\"\\t\\tLike a diamond in the sky.\")\n",
    "print(\"Twinkle, twinkle, little star,\")\n",
    "print(\"\\tHow I wonder what you are.\")\n"
   ]
  },
  {
   "cell_type": "code",
   "execution_count": 8,
   "id": "2f150ffb",
   "metadata": {},
   "outputs": [
    {
     "name": "stdout",
     "output_type": "stream",
     "text": [
      "3.8.8 (default, Apr 13 2021, 15:08:03) [MSC v.1916 64 bit (AMD64)]\n"
     ]
    }
   ],
   "source": [
    "# QUESTION NO : 02\n",
    "\n",
    "# 2. Write a Python program to get the Python version you are using ?\n",
    "\n",
    "# ANSWER NO :02\n",
    "\n",
    "import sys\n",
    "\n",
    "print (sys.version)"
   ]
  },
  {
   "cell_type": "code",
   "execution_count": 3,
   "id": "158ef80a",
   "metadata": {},
   "outputs": [
    {
     "name": "stdout",
     "output_type": "stream",
     "text": [
      "2021-10-23 12:03:14.099258\n"
     ]
    }
   ],
   "source": [
    "# QUESTION NO : 03\n",
    "\n",
    "# 3. Write a Python program to display the current date nd time.\n",
    "\n",
    "# ANSWER NO :03\n",
    "\n",
    "import datetime\n",
    "\n",
    "x = datetime.datetime.now()\n",
    "print(x)"
   ]
  },
  {
   "cell_type": "code",
   "execution_count": 4,
   "id": "a7275f2d",
   "metadata": {},
   "outputs": [
    {
     "name": "stdout",
     "output_type": "stream",
     "text": [
      "Enter the radius of the circle: 5\n",
      "Radius of circle is :  5.0\n",
      "Area of circle is  =  15.708\n"
     ]
    }
   ],
   "source": [
    "# QUESTION NO : 04\n",
    "\n",
    "# 4. Write a Python program which accepts the radius of a circle from the user and compute the area.\n",
    "\n",
    "# Answer : 04\n",
    "\n",
    "\n",
    "radius = float(input(\"Enter the radius of the circle: \"))\n",
    "\n",
    "area = 3.1416 * radius\n",
    "\n",
    "print(\"Radius of circle is : \", radius)\n",
    "\n",
    "print(\"Area of circle is  = \", area)"
   ]
  },
  {
   "cell_type": "code",
   "execution_count": 5,
   "id": "72d2cfd2",
   "metadata": {},
   "outputs": [
    {
     "name": "stdout",
     "output_type": "stream",
     "text": [
      "Input your First Name : AHMED \n",
      "Input your Last Name : KALEEM\n",
      "KALEEM AHMED \n"
     ]
    }
   ],
   "source": [
    "# QUESTION NO : 05\n",
    "\n",
    "# 5. Write a Python program which accepts the user's first and last name and print them in\n",
    "# reverse order with a space between them.\n",
    "\n",
    "# Answer : 05\n",
    "\n",
    "\n",
    "first_name = input(\"Input your First Name : \")\n",
    "last_name = input(\"Input your Last Name : \")\n",
    "print (last_name + \" \" + first_name);"
   ]
  },
  {
   "cell_type": "code",
   "execution_count": 6,
   "id": "151c182f",
   "metadata": {},
   "outputs": [
    {
     "name": "stdout",
     "output_type": "stream",
     "text": [
      "Enter first number = 7\n",
      "Enter Second number = 9\n",
      "16\n"
     ]
    }
   ],
   "source": [
    "# QUESTION NO : 06\n",
    "\n",
    "# 6.Write a python program which takes two inputs from user and print them addition?\n",
    "\n",
    "# Answer No = 06\n",
    "\n",
    "First_num = input(\"Enter first number = \");\n",
    "Second_num = input(\"Enter Second number = \");\n",
    "Result = int(First_num) + int(Second_num)\n",
    "print(Result)"
   ]
  },
  {
   "cell_type": "code",
   "execution_count": 7,
   "id": "003dae60",
   "metadata": {},
   "outputs": [
    {
     "name": "stdout",
     "output_type": "stream",
     "text": [
      "Enter Maths Marks = 6\n",
      "Enter Phys Marks = 7\n",
      "Enter Comp Marks = 6\n",
      "Enter Chem Marks = 7\n",
      "Enter Urdu Marks = 8\n",
      "34\n",
      "6.800000000000001\n",
      "Fail\n"
     ]
    }
   ],
   "source": [
    "# QUESTION NO : 07\n",
    "\n",
    "# 7.Write a program which takes 5 inputs from user for different subject’s marks, total it\n",
    "# and generate mark sheet using grades ?\n",
    "\n",
    "# Answer No = 07\n",
    "\n",
    "Math = input(\"Enter Maths Marks = \");\n",
    "Phys = input(\"Enter Phys Marks = \");\n",
    "Comp = input(\"Enter Comp Marks = \");\n",
    "Chem = input(\"Enter Chem Marks = \");\n",
    "Urdu = input(\"Enter Urdu Marks = \");\n",
    "\n",
    "Obt_marks = int(Math) + int(Phys) + int(Comp) + int(Chem) + int(Urdu);\n",
    "\n",
    "print(Obt_marks);\n",
    "\n",
    "Total_marks =  500 ;\n",
    "\n",
    "Percentage = ( Obt_marks / Total_marks ) * 100 ;\n",
    "\n",
    "print(Percentage);\n",
    "\n",
    "if Percentage < 100  and Percentage > 80 :\n",
    "    print(\"YOU GOT A+\")\n",
    "\n",
    "elif Percentage < 80  and Percentage > 69 :\n",
    "    print(\"YOU GOT A\")\n",
    "    \n",
    "elif Percentage < 70  and Percentage > 59 :\n",
    "    print(\"YOU GOT B\")\n",
    "\n",
    "elif Percentage < 60  and Percentage > 49 :\n",
    "    print(\"YOU GOT C\")\n",
    "    \n",
    "elif Percentage < 50  and Percentage > 39 :\n",
    "    print(\"YOU GOT D\")\n",
    "\n",
    "elif Percentage < 40  and Percentage > 32 :\n",
    "    print(\"YOU GOT E\")\n",
    "    \n",
    "elif Percentage < 33  and Percentage > 0 :\n",
    "    print(\"Fail\")\n",
    "    \n",
    "else :\n",
    "    print(\"INAPPROPIATE NUMBERS\");"
   ]
  },
  {
   "cell_type": "code",
   "execution_count": 14,
   "id": "71cba086",
   "metadata": {},
   "outputs": [
    {
     "name": "stdout",
     "output_type": "stream",
     "text": [
      "Check number is even or add7\n",
      "This is odd num \n"
     ]
    }
   ],
   "source": [
    "# QUESTION NO : 08\n",
    "\n",
    "# 8. Write a program which take input from user and identify that the given number is even\n",
    "# or odd?\n",
    "\n",
    "# Answer No = 8\n",
    "\n",
    "Number = int(input(\"Check number is even or add\"));\n",
    "\n",
    "if (Number%2) == 0 :\n",
    "    print(\"This is Even Num \");\n",
    "    \n",
    "else:\n",
    "    print(\"This is odd num \");"
   ]
  },
  {
   "cell_type": "code",
   "execution_count": 3,
   "id": "44e68aa2",
   "metadata": {},
   "outputs": [
    {
     "name": "stdout",
     "output_type": "stream",
     "text": [
      "5\n"
     ]
    }
   ],
   "source": [
    "# QUESTION NO : 09\n",
    "\n",
    "# 9.Write a program which print the length of the list?\n",
    "\n",
    "# Answer No = 9\n",
    "\n",
    "List = [\"Ahmed\",\"Ahmed\",\"Ahmed\",\"Ahmed\",\"Ahmed\"];\n",
    "print(len(List));"
   ]
  },
  {
   "cell_type": "code",
   "execution_count": 4,
   "id": "9227cbbe",
   "metadata": {},
   "outputs": [
    {
     "name": "stdout",
     "output_type": "stream",
     "text": [
      "45\n"
     ]
    }
   ],
   "source": [
    "# QUESTION NO : 10\n",
    "\n",
    "# 10.Write a Python program to sum all the numeric items in a list??\n",
    "\n",
    "# Answer No = 10\n",
    "\n",
    "\n",
    "Numbers = [1,2,3,4,5,6,7,8,9];\n",
    "print(sum(Numbers));"
   ]
  },
  {
   "cell_type": "code",
   "execution_count": 5,
   "id": "b17af5d1",
   "metadata": {},
   "outputs": [
    {
     "name": "stdout",
     "output_type": "stream",
     "text": [
      "9\n"
     ]
    }
   ],
   "source": [
    "# QUESTION NO : 11\n",
    "\n",
    "# 11.Write a Python program to get the largest number from a numeric list ?\n",
    "\n",
    "# Answer No = 11\n",
    "\n",
    "Numbers = [1,2,3,4,5,6,7,8,9];\n",
    "print(max(Numbers));"
   ]
  },
  {
   "cell_type": "code",
   "execution_count": 6,
   "id": "eb7d2f43",
   "metadata": {},
   "outputs": [
    {
     "name": "stdout",
     "output_type": "stream",
     "text": [
      "1\n",
      "1\n",
      "2\n",
      "3\n"
     ]
    }
   ],
   "source": [
    "# QUESTION NO : 12\n",
    "\n",
    "# Take a list, say for example this one:\n",
    "# a = [1, 1, 2, 3, 5, 8, 13, 21, 34, 55, 89]\n",
    "# Write a program that prints out all the elements of the list that are less than 5 ?\n",
    "\n",
    "# Answer No = 12\n",
    "\n",
    "a = [1, 1, 2, 3, 5, 8, 13, 21, 34, 55, 89]\n",
    "\n",
    "for item in a:\n",
    "  if item < 5:\n",
    "    print(item) ;"
   ]
  },
  {
   "cell_type": "code",
   "execution_count": null,
   "id": "01164825",
   "metadata": {},
   "outputs": [],
   "source": []
  }
 ],
 "metadata": {
  "kernelspec": {
   "display_name": "Python 3",
   "language": "python",
   "name": "python3"
  },
  "language_info": {
   "codemirror_mode": {
    "name": "ipython",
    "version": 3
   },
   "file_extension": ".py",
   "mimetype": "text/x-python",
   "name": "python",
   "nbconvert_exporter": "python",
   "pygments_lexer": "ipython3",
   "version": "3.8.8"
  }
 },
 "nbformat": 4,
 "nbformat_minor": 5
}
