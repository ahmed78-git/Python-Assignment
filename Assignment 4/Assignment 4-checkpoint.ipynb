{
 "cells": [
  {
   "cell_type": "markdown",
   "id": "ade341a3",
   "metadata": {},
   "source": [
    "# ASSIGNMENT : 04\n"
   ]
  },
  {
   "cell_type": "markdown",
   "id": "9d31928e",
   "metadata": {},
   "source": [
    "# Make a calculator using Python with addition , subtraction ,multiplication ,division and power ?"
   ]
  },
  {
   "cell_type": "code",
   "execution_count": 9,
   "id": "713832dd",
   "metadata": {},
   "outputs": [
    {
     "name": "stdout",
     "output_type": "stream",
     "text": [
      "Enter First Number :3\n",
      "Enter Second Number :4\n",
      "Addition is :  7\n",
      "Subtraction is :  -1\n",
      "Multiplication is : 12\n",
      "Division is :  0.75\n",
      "Power is :  7\n"
     ]
    }
   ],
   "source": [
    " Number1 = int(input(\"Enter First Number :\"));\n",
    "Number2 = int(input(\"Enter Second Number :\"));\n",
    "\n",
    "Add = (Number1 + Number2);\n",
    "Sub = (Number1 - Number2);\n",
    "Mul = (Number1 * Number2);\n",
    "Div = (Number1 / Number2);\n",
    "Pow = (Number1 ^ Number2);\n",
    "\n",
    "print(\"Addition is : \" , Add);\n",
    "print(\"Subtraction is : \" , Sub);\n",
    "print(\"Multiplication is :\" , Mul);\n",
    "print(\"Division is : \" , Div);\n",
    "print(\"Power is : \" , Pow);\n"
   ]
  },
  {
   "cell_type": "markdown",
   "id": "c691fc47",
   "metadata": {},
   "source": [
    "# Write a program to check if there is any numeric value in list using for loop ?\n"
   ]
  },
  {
   "cell_type": "code",
   "execution_count": 11,
   "id": "0e308502",
   "metadata": {},
   "outputs": [
    {
     "name": "stdout",
     "output_type": "stream",
     "text": [
      "1\n"
     ]
    }
   ],
   "source": [
    "List = [\"a\",\"v\",\"c\",\"1\",\"f\"];\n",
    "for item in List :\n",
    "    if item.isdigit():\n",
    "        print(item);\n",
    "   "
   ]
  },
  {
   "cell_type": "code",
   "execution_count": null,
   "id": "7da02c3d",
   "metadata": {},
   "outputs": [],
   "source": []
  },
  {
   "cell_type": "code",
   "execution_count": null,
   "id": "4ad9cbe4",
   "metadata": {},
   "outputs": [],
   "source": []
  },
  {
   "cell_type": "markdown",
   "id": "74ca1d8f",
   "metadata": {},
   "source": [
    "# Write a Python script to add a key to a dictionary."
   ]
  },
  {
   "cell_type": "code",
   "execution_count": 2,
   "id": "d34188e2",
   "metadata": {},
   "outputs": [
    {
     "name": "stdout",
     "output_type": "stream",
     "text": [
      "{'Name': 'Ahmed', 'Age': 21}\n",
      "{'Name': 'Ahmed', 'Age': 21, 'Country': 'Pakistan'}\n"
     ]
    }
   ],
   "source": [
    "dict = {\"Name\" : \"Ahmed\" , \"Age\" : 21};\n",
    "print(dict)\n",
    "dict.update({\"Country\": \"Pakistan\"});\n",
    "print(dict)"
   ]
  },
  {
   "cell_type": "markdown",
   "id": "5815458b",
   "metadata": {},
   "source": [
    "# Write a Python program to sum all the numeric items in a dictionary."
   ]
  },
  {
   "cell_type": "code",
   "execution_count": 6,
   "id": "88147c1c",
   "metadata": {},
   "outputs": [
    {
     "name": "stdout",
     "output_type": "stream",
     "text": [
      "240\n"
     ]
    }
   ],
   "source": [
    "Subjects = {\"Maths\" : 100 , \"Physics\" : 50 , \"Chemistry\" : 90};\n",
    "print(sum(Subjects.values()))"
   ]
  },
  {
   "cell_type": "markdown",
   "id": "04421402",
   "metadata": {},
   "source": [
    "# Write a Python script to check if a given key already exists in a\n",
    "dictionary"
   ]
  },
  {
   "cell_type": "code",
   "execution_count": 18,
   "id": "87cec9da",
   "metadata": {},
   "outputs": [
    {
     "name": "stdout",
     "output_type": "stream",
     "text": [
      "The given dictionary :  {'Ali': 1, 'Hamza': 2, 'Waleed': 3, 'Talha': 4}\n",
      "Ahmed  is not Present.\n"
     ]
    }
   ],
   "source": [
    "List = {'Ali':1,'Hamza':2,'Waleed':3,'Talha':4}\n",
    "\n",
    "print(\"The given dictionary : \",List)\n",
    "\n",
    "check_key = \"Ahmed\"\n",
    "\n",
    "if check_key in List:\n",
    "    \n",
    "    print(check_key,\"is Present.\")\n",
    "else:\n",
    "     print(check_key, \" is not Present.\")"
   ]
  },
  {
   "cell_type": "markdown",
   "id": "7561b8ac",
   "metadata": {},
   "source": [
    "# Write a program to identify duplicate values from list."
   ]
  },
  {
   "cell_type": "code",
   "execution_count": 19,
   "id": "2647c94d",
   "metadata": {},
   "outputs": [
    {
     "name": "stdout",
     "output_type": "stream",
     "text": [
      "2 3 4 5 "
     ]
    }
   ],
   "source": [
    "list=[1,2,3,4,5,2,3,4,7,9,5]\n",
    "list1=[]\n",
    "for i in list:\n",
    "    if i not in list1:\n",
    "        list1.append(i)\n",
    "    else:\n",
    "        print(i,end=' ')"
   ]
  },
  {
   "cell_type": "code",
   "execution_count": null,
   "id": "1075751b",
   "metadata": {},
   "outputs": [],
   "source": []
  },
  {
   "cell_type": "code",
   "execution_count": null,
   "id": "307d3ac9",
   "metadata": {},
   "outputs": [],
   "source": []
  }
 ],
 "metadata": {
  "kernelspec": {
   "display_name": "Python 3",
   "language": "python",
   "name": "python3"
  },
  "language_info": {
   "codemirror_mode": {
    "name": "ipython",
    "version": 3
   },
   "file_extension": ".py",
   "mimetype": "text/x-python",
   "name": "python",
   "nbconvert_exporter": "python",
   "pygments_lexer": "ipython3",
   "version": "3.8.8"
  }
 },
 "nbformat": 4,
 "nbformat_minor": 5
}
